{
 "cells": [
  {
   "cell_type": "markdown",
   "metadata": {},
   "source": [
    "# Parkinson’s data cross-validation"
   ]
  },
  {
   "cell_type": "code",
   "execution_count": 53,
   "metadata": {},
   "outputs": [],
   "source": [
    "import pandas as pd\n",
    "from sklearn.tree import DecisionTreeClassifier # Import Decision Tree Classifier\n",
    "from sklearn.model_selection import train_test_split # Import train_test_split function\n",
    "from sklearn import metrics #Import scikit-learn metrics module for accuracy calculation\n",
    "from sklearn.metrics import precision_score\n",
    "from sklearn.metrics import recall_score\n",
    "from sklearn.metrics import cohen_kappa_score\n",
    "from sklearn.metrics import accuracy_score\n",
    "from sklearn.model_selection import KFold\n",
    "from sklearn.neighbors import KNeighborsClassifier\n",
    "from sklearn.naive_bayes import GaussianNB\n",
    "from sklearn.model_selection import KFold\n",
    "from sklearn.model_selection import cross_val_score\n",
    "from sklearn.model_selection import GridSearchCV"
   ]
  },
  {
   "cell_type": "code",
   "execution_count": 54,
   "metadata": {},
   "outputs": [],
   "source": [
    "# into a dataframe object\n",
    "df = pd.DataFrame(pd.read_csv(\"dataset1.csv\")) "
   ]
  },
  {
   "cell_type": "code",
   "execution_count": 55,
   "metadata": {},
   "outputs": [
    {
     "data": {
      "text/html": [
       "<div>\n",
       "<style scoped>\n",
       "    .dataframe tbody tr th:only-of-type {\n",
       "        vertical-align: middle;\n",
       "    }\n",
       "\n",
       "    .dataframe tbody tr th {\n",
       "        vertical-align: top;\n",
       "    }\n",
       "\n",
       "    .dataframe thead th {\n",
       "        text-align: right;\n",
       "    }\n",
       "</style>\n",
       "<table border=\"1\" class=\"dataframe\">\n",
       "  <thead>\n",
       "    <tr style=\"text-align: right;\">\n",
       "      <th></th>\n",
       "      <th>rand1</th>\n",
       "      <th>rand2</th>\n",
       "      <th>rand3</th>\n",
       "      <th>class</th>\n",
       "    </tr>\n",
       "  </thead>\n",
       "  <tbody>\n",
       "    <tr>\n",
       "      <th>0</th>\n",
       "      <td>0.322113</td>\n",
       "      <td>9.937013</td>\n",
       "      <td>-1.013400</td>\n",
       "      <td>classA</td>\n",
       "    </tr>\n",
       "    <tr>\n",
       "      <th>1</th>\n",
       "      <td>0.859447</td>\n",
       "      <td>2.423768</td>\n",
       "      <td>-1.312457</td>\n",
       "      <td>classB</td>\n",
       "    </tr>\n",
       "    <tr>\n",
       "      <th>2</th>\n",
       "      <td>0.086464</td>\n",
       "      <td>9.181621</td>\n",
       "      <td>-1.088611</td>\n",
       "      <td>classA</td>\n",
       "    </tr>\n",
       "    <tr>\n",
       "      <th>3</th>\n",
       "      <td>0.502293</td>\n",
       "      <td>2.817131</td>\n",
       "      <td>-1.081987</td>\n",
       "      <td>classB</td>\n",
       "    </tr>\n",
       "    <tr>\n",
       "      <th>4</th>\n",
       "      <td>0.930650</td>\n",
       "      <td>4.359159</td>\n",
       "      <td>-1.676343</td>\n",
       "      <td>classB</td>\n",
       "    </tr>\n",
       "  </tbody>\n",
       "</table>\n",
       "</div>"
      ],
      "text/plain": [
       "      rand1     rand2     rand3   class\n",
       "0  0.322113  9.937013 -1.013400  classA\n",
       "1  0.859447  2.423768 -1.312457  classB\n",
       "2  0.086464  9.181621 -1.088611  classA\n",
       "3  0.502293  2.817131 -1.081987  classB\n",
       "4  0.930650  4.359159 -1.676343  classB"
      ]
     },
     "execution_count": 55,
     "metadata": {},
     "output_type": "execute_result"
    }
   ],
   "source": [
    "df.head()"
   ]
  },
  {
   "cell_type": "code",
   "execution_count": 56,
   "metadata": {},
   "outputs": [],
   "source": [
    "#creating labelEncoder\n",
    "from sklearn import preprocessing\n",
    "le = preprocessing.LabelEncoder()\n",
    "# Converting string labels into numbers.\n",
    "label_encoded=le.fit_transform(df['class'])\n",
    "df['class']= (label_encoded)"
   ]
  },
  {
   "cell_type": "code",
   "execution_count": 57,
   "metadata": {},
   "outputs": [
    {
     "name": "stdout",
     "output_type": "stream",
     "text": [
      "Kappa Score:  0.12395709177592373\n",
      "% Correct:  0.6\n",
      "Precision Score:  0.7014925373134329\n",
      "Recall Score: 0.6811594202898551\n"
     ]
    }
   ],
   "source": [
    "X = df.iloc[:, :-1].values\n",
    "y = df.iloc[:, -1].values\n",
    "X_train, X_test, y_train, y_test = train_test_split(X, y, test_size=0.3, random_state=1) # 70% training and 30% test\n",
    "# Create Decision Tree classifer object\n",
    "clf = DecisionTreeClassifier()\n",
    "\n",
    "# Train Decision Tree Classifer\n",
    "clf = clf.fit(X_train,y_train)\n",
    "\n",
    "#Predict the response for test dataset\n",
    "y_pred = clf.predict(X_test)\n",
    "\n",
    "# Model Accuracy, how often is the classifier correct?\n",
    "print(\"Kappa Score: \",cohen_kappa_score(y_test, y_pred))\n",
    "print(\"% Correct: \",accuracy_score(y_test, y_pred))\n",
    "print(\"Precision Score: \",precision_score(y_test, y_pred))\n",
    "print(\"Recall Score:\",recall_score(y_test, y_pred))"
   ]
  },
  {
   "cell_type": "code",
   "execution_count": 58,
   "metadata": {},
   "outputs": [
    {
     "name": "stdout",
     "output_type": "stream",
     "text": [
      "Kappa Score:  0.12797281993204979\n",
      "% Correct:  0.580952380952381\n",
      "Precision Score:  0.711864406779661\n",
      "Recall Score: 0.6086956521739131\n"
     ]
    }
   ],
   "source": [
    "X = df.iloc[:, :-1].values\n",
    "y = df.iloc[:, -1].values\n",
    "X_train, X_test, y_train, y_test = train_test_split(X, y, test_size=0.3, random_state=1) # 70% training and 30% test\n",
    "# Create Decision Tree classifer object\n",
    "clf = DecisionTreeClassifier(min_samples_split = 10)\n",
    "\n",
    "# Train Decision Tree Classifer\n",
    "clf = clf.fit(X_train,y_train)\n",
    "\n",
    "#Predict the response for test dataset\n",
    "y_pred = clf.predict(X_test)\n",
    "\n",
    "# Model Accuracy, how often is the classifier correct?\n",
    "print(\"Kappa Score: \",cohen_kappa_score(y_test, y_pred))\n",
    "print(\"% Correct: \",accuracy_score(y_test, y_pred))\n",
    "print(\"Precision Score: \",precision_score(y_test, y_pred))\n",
    "print(\"Recall Score:\",recall_score(y_test, y_pred))"
   ]
  },
  {
   "cell_type": "markdown",
   "metadata": {},
   "source": [
    "The new performance is certainly worse than previous one when we compare the Kappa score, recall and the accuracy"
   ]
  },
  {
   "cell_type": "code",
   "execution_count": 59,
   "metadata": {},
   "outputs": [
    {
     "name": "stdout",
     "output_type": "stream",
     "text": [
      "Fold: 1\n",
      "Kappa Score:  -0.05660377358490565\n",
      "% Correct:  0.5227272727272727\n",
      "Precision Score:  0.6727272727272727\n",
      "Recall Score: 0.6065573770491803\n",
      "--\n",
      "Fold: 2\n",
      "Kappa Score:  -0.07013574660633481\n",
      "% Correct:  0.5113636363636364\n",
      "Precision Score:  0.5692307692307692\n",
      "Recall Score: 0.7115384615384616\n",
      "--\n",
      "Fold: 3\n",
      "Kappa Score:  -0.23166023166023164\n",
      "% Correct:  0.4942528735632184\n",
      "Precision Score:  0.6666666666666666\n",
      "Recall Score: 0.625\n",
      "--\n",
      "Fold: 4\n",
      "Kappa Score:  0.046222222222222276\n",
      "% Correct:  0.5747126436781609\n",
      "Precision Score:  0.7407407407407407\n",
      "Recall Score: 0.6349206349206349\n",
      "--\n"
     ]
    }
   ],
   "source": [
    "X = df.iloc[:, :-1].values\n",
    "y = df.iloc[:, -1].values\n",
    "model2 = DecisionTreeClassifier()\n",
    "kf = KFold(n_splits=4, random_state=1, shuffle=True)\n",
    "count=0\n",
    "for train_index, test_index in kf.split(X):\n",
    "    count=count+1\n",
    "    X_train, X_test = X[train_index], X[test_index]\n",
    "    y_train, y_test = y[train_index], y[test_index]\n",
    "    model2.fit(X_train, y_train)\n",
    "    y_pred=model2.predict(X_test)\n",
    "    print(\"Fold:\",count)\n",
    "    print(\"Kappa Score: \",cohen_kappa_score(y_test, y_pred))\n",
    "    print(\"% Correct: \",accuracy_score(y_test, y_pred))\n",
    "    print(\"Precision Score: \",precision_score(y_test, y_pred))\n",
    "    print(\"Recall Score:\",recall_score(y_test, y_pred))\n",
    "    print(\"--\")"
   ]
  },
  {
   "cell_type": "markdown",
   "metadata": {},
   "source": [
    "4 fold cross validation is giving the worst performance as compared to the previous once, hence the model performance decreased significantly.If I want to improve the accuracy, there are several ways to try to improve, for example:\n",
    "a) get more data/better data\n",
    "b) try other classifiers - svm, random forest, etc\n",
    "c) try which combinations of features seems to work best\n",
    "d) generate better features"
   ]
  },
  {
   "cell_type": "markdown",
   "metadata": {},
   "source": [
    "2: Cross-validating at the group level"
   ]
  },
  {
   "cell_type": "code",
   "execution_count": 60,
   "metadata": {},
   "outputs": [],
   "source": [
    "# into a dataframe object \n",
    "df2 = pd.DataFrame(pd.read_csv(\"dataset2.csv\")) \n",
    "#creating labelEncoder\n",
    "from sklearn import preprocessing\n",
    "le = preprocessing.LabelEncoder()\n",
    "# Converting string labels into numbers.\n",
    "label_encoded=le.fit_transform(df2['class'])\n",
    "df2['class']= (label_encoded)"
   ]
  },
  {
   "cell_type": "code",
   "execution_count": 61,
   "metadata": {},
   "outputs": [],
   "source": [
    "df2 = df2.drop(columns=['group_id'])"
   ]
  },
  {
   "cell_type": "code",
   "execution_count": 62,
   "metadata": {},
   "outputs": [
    {
     "data": {
      "text/html": [
       "<div>\n",
       "<style scoped>\n",
       "    .dataframe tbody tr th:only-of-type {\n",
       "        vertical-align: middle;\n",
       "    }\n",
       "\n",
       "    .dataframe tbody tr th {\n",
       "        vertical-align: top;\n",
       "    }\n",
       "\n",
       "    .dataframe thead th {\n",
       "        text-align: right;\n",
       "    }\n",
       "</style>\n",
       "<table border=\"1\" class=\"dataframe\">\n",
       "  <thead>\n",
       "    <tr style=\"text-align: right;\">\n",
       "      <th></th>\n",
       "      <th>rand1</th>\n",
       "      <th>rand2</th>\n",
       "      <th>class</th>\n",
       "    </tr>\n",
       "  </thead>\n",
       "  <tbody>\n",
       "    <tr>\n",
       "      <th>0</th>\n",
       "      <td>0.407873</td>\n",
       "      <td>1.037360</td>\n",
       "      <td>1</td>\n",
       "    </tr>\n",
       "    <tr>\n",
       "      <th>1</th>\n",
       "      <td>0.763715</td>\n",
       "      <td>-1.033221</td>\n",
       "      <td>0</td>\n",
       "    </tr>\n",
       "    <tr>\n",
       "      <th>2</th>\n",
       "      <td>0.854570</td>\n",
       "      <td>5.388808</td>\n",
       "      <td>1</td>\n",
       "    </tr>\n",
       "    <tr>\n",
       "      <th>3</th>\n",
       "      <td>0.553711</td>\n",
       "      <td>-3.118610</td>\n",
       "      <td>0</td>\n",
       "    </tr>\n",
       "    <tr>\n",
       "      <th>4</th>\n",
       "      <td>0.336519</td>\n",
       "      <td>-1.849318</td>\n",
       "      <td>0</td>\n",
       "    </tr>\n",
       "  </tbody>\n",
       "</table>\n",
       "</div>"
      ],
      "text/plain": [
       "      rand1     rand2  class\n",
       "0  0.407873  1.037360      1\n",
       "1  0.763715 -1.033221      0\n",
       "2  0.854570  5.388808      1\n",
       "3  0.553711 -3.118610      0\n",
       "4  0.336519 -1.849318      0"
      ]
     },
     "execution_count": 62,
     "metadata": {},
     "output_type": "execute_result"
    }
   ],
   "source": [
    "df2.head()"
   ]
  },
  {
   "cell_type": "code",
   "execution_count": 63,
   "metadata": {},
   "outputs": [
    {
     "data": {
      "text/html": [
       "<div>\n",
       "<style scoped>\n",
       "    .dataframe tbody tr th:only-of-type {\n",
       "        vertical-align: middle;\n",
       "    }\n",
       "\n",
       "    .dataframe tbody tr th {\n",
       "        vertical-align: top;\n",
       "    }\n",
       "\n",
       "    .dataframe thead th {\n",
       "        text-align: right;\n",
       "    }\n",
       "</style>\n",
       "<table border=\"1\" class=\"dataframe\">\n",
       "  <thead>\n",
       "    <tr style=\"text-align: right;\">\n",
       "      <th></th>\n",
       "      <th>rand1</th>\n",
       "      <th>rand2</th>\n",
       "      <th>class</th>\n",
       "    </tr>\n",
       "  </thead>\n",
       "  <tbody>\n",
       "    <tr>\n",
       "      <th>0</th>\n",
       "      <td>0.407873</td>\n",
       "      <td>1.037360</td>\n",
       "      <td>1</td>\n",
       "    </tr>\n",
       "    <tr>\n",
       "      <th>1</th>\n",
       "      <td>0.763715</td>\n",
       "      <td>-1.033221</td>\n",
       "      <td>0</td>\n",
       "    </tr>\n",
       "    <tr>\n",
       "      <th>2</th>\n",
       "      <td>0.854570</td>\n",
       "      <td>5.388808</td>\n",
       "      <td>1</td>\n",
       "    </tr>\n",
       "    <tr>\n",
       "      <th>3</th>\n",
       "      <td>0.553711</td>\n",
       "      <td>-3.118610</td>\n",
       "      <td>0</td>\n",
       "    </tr>\n",
       "    <tr>\n",
       "      <th>4</th>\n",
       "      <td>0.336519</td>\n",
       "      <td>-1.849318</td>\n",
       "      <td>0</td>\n",
       "    </tr>\n",
       "  </tbody>\n",
       "</table>\n",
       "</div>"
      ],
      "text/plain": [
       "      rand1     rand2  class\n",
       "0  0.407873  1.037360      1\n",
       "1  0.763715 -1.033221      0\n",
       "2  0.854570  5.388808      1\n",
       "3  0.553711 -3.118610      0\n",
       "4  0.336519 -1.849318      0"
      ]
     },
     "execution_count": 63,
     "metadata": {},
     "output_type": "execute_result"
    }
   ],
   "source": [
    "df2.head()"
   ]
  },
  {
   "cell_type": "code",
   "execution_count": 64,
   "metadata": {},
   "outputs": [
    {
     "name": "stdout",
     "output_type": "stream",
     "text": [
      "Fold: 1\n",
      "Kappa Score:  0.8407643312101911\n",
      "% Correct:  0.92\n",
      "Precision Score:  1.0\n",
      "Recall Score: 0.8571428571428571\n",
      "--\n",
      "Fold: 2\n",
      "Kappa Score:  0.13793103448275856\n",
      "% Correct:  0.6\n",
      "Precision Score:  0.5\n",
      "Recall Score: 0.4\n",
      "--\n",
      "Fold: 3\n",
      "Kappa Score:  0.6688741721854304\n",
      "% Correct:  0.84\n",
      "Precision Score:  0.8125\n",
      "Recall Score: 0.9285714285714286\n",
      "--\n",
      "Fold: 4\n",
      "Kappa Score:  0.9201277955271565\n",
      "% Correct:  0.96\n",
      "Precision Score:  0.9230769230769231\n",
      "Recall Score: 1.0\n",
      "--\n"
     ]
    }
   ],
   "source": [
    "X = df2.iloc[:, :-1].values\n",
    "y = df2.iloc[:, -1].values\n",
    "model2 = DecisionTreeClassifier()\n",
    "kf = KFold(n_splits=4, random_state=1, shuffle=True)\n",
    "count=0\n",
    "for train_index, test_index in kf.split(X):\n",
    "    count=count+1\n",
    "    X_train, X_test = X[train_index], X[test_index]\n",
    "    y_train, y_test = y[train_index], y[test_index]\n",
    "    model2.fit(X_train, y_train)\n",
    "    y_pred=model2.predict(X_test)\n",
    "    print(\"Fold:\",count)\n",
    "    print(\"Kappa Score: \",cohen_kappa_score(y_test, y_pred))\n",
    "    print(\"% Correct: \",accuracy_score(y_test, y_pred))\n",
    "    print(\"Precision Score: \",precision_score(y_test, y_pred))\n",
    "    print(\"Recall Score:\",recall_score(y_test, y_pred))\n",
    "    print(\"--\")"
   ]
  },
  {
   "cell_type": "code",
   "execution_count": 65,
   "metadata": {},
   "outputs": [],
   "source": [
    "# into a dataframe object \n",
    "df2_1 = pd.DataFrame(pd.read_csv(\"dataset2.csv\")) \n",
    "#creating labelEncoder\n",
    "from sklearn import preprocessing\n",
    "le = preprocessing.LabelEncoder()\n",
    "# Converting string labels into numbers.\n",
    "label_encoded=le.fit_transform(df2_1['class'])\n",
    "df2_1['class']= (label_encoded)"
   ]
  },
  {
   "cell_type": "code",
   "execution_count": 66,
   "metadata": {},
   "outputs": [
    {
     "data": {
      "text/html": [
       "<div>\n",
       "<style scoped>\n",
       "    .dataframe tbody tr th:only-of-type {\n",
       "        vertical-align: middle;\n",
       "    }\n",
       "\n",
       "    .dataframe tbody tr th {\n",
       "        vertical-align: top;\n",
       "    }\n",
       "\n",
       "    .dataframe thead th {\n",
       "        text-align: right;\n",
       "    }\n",
       "</style>\n",
       "<table border=\"1\" class=\"dataframe\">\n",
       "  <thead>\n",
       "    <tr style=\"text-align: right;\">\n",
       "      <th></th>\n",
       "      <th>group_id</th>\n",
       "      <th>rand1</th>\n",
       "      <th>rand2</th>\n",
       "      <th>class</th>\n",
       "    </tr>\n",
       "  </thead>\n",
       "  <tbody>\n",
       "    <tr>\n",
       "      <th>0</th>\n",
       "      <td>group6</td>\n",
       "      <td>0.407873</td>\n",
       "      <td>1.037360</td>\n",
       "      <td>1</td>\n",
       "    </tr>\n",
       "    <tr>\n",
       "      <th>1</th>\n",
       "      <td>group3</td>\n",
       "      <td>0.763715</td>\n",
       "      <td>-1.033221</td>\n",
       "      <td>0</td>\n",
       "    </tr>\n",
       "    <tr>\n",
       "      <th>2</th>\n",
       "      <td>group10</td>\n",
       "      <td>0.854570</td>\n",
       "      <td>5.388808</td>\n",
       "      <td>1</td>\n",
       "    </tr>\n",
       "    <tr>\n",
       "      <th>3</th>\n",
       "      <td>group1</td>\n",
       "      <td>0.553711</td>\n",
       "      <td>-3.118610</td>\n",
       "      <td>0</td>\n",
       "    </tr>\n",
       "    <tr>\n",
       "      <th>4</th>\n",
       "      <td>group3</td>\n",
       "      <td>0.336519</td>\n",
       "      <td>-1.849318</td>\n",
       "      <td>0</td>\n",
       "    </tr>\n",
       "  </tbody>\n",
       "</table>\n",
       "</div>"
      ],
      "text/plain": [
       "  group_id     rand1     rand2  class\n",
       "0   group6  0.407873  1.037360      1\n",
       "1   group3  0.763715 -1.033221      0\n",
       "2  group10  0.854570  5.388808      1\n",
       "3   group1  0.553711 -3.118610      0\n",
       "4   group3  0.336519 -1.849318      0"
      ]
     },
     "execution_count": 66,
     "metadata": {},
     "output_type": "execute_result"
    }
   ],
   "source": [
    "df2_1.head()"
   ]
  },
  {
   "cell_type": "code",
   "execution_count": 67,
   "metadata": {},
   "outputs": [],
   "source": [
    "array = ['group1','group2','group3','group4','group5','group6','group7']\n",
    "dd_train=df2_1.loc[df2_1['group_id'].isin(array)]\n",
    "dd_train= dd_train.drop(columns=['group_id'])"
   ]
  },
  {
   "cell_type": "code",
   "execution_count": 68,
   "metadata": {},
   "outputs": [
    {
     "data": {
      "text/html": [
       "<div>\n",
       "<style scoped>\n",
       "    .dataframe tbody tr th:only-of-type {\n",
       "        vertical-align: middle;\n",
       "    }\n",
       "\n",
       "    .dataframe tbody tr th {\n",
       "        vertical-align: top;\n",
       "    }\n",
       "\n",
       "    .dataframe thead th {\n",
       "        text-align: right;\n",
       "    }\n",
       "</style>\n",
       "<table border=\"1\" class=\"dataframe\">\n",
       "  <thead>\n",
       "    <tr style=\"text-align: right;\">\n",
       "      <th></th>\n",
       "      <th>rand1</th>\n",
       "      <th>rand2</th>\n",
       "      <th>class</th>\n",
       "    </tr>\n",
       "  </thead>\n",
       "  <tbody>\n",
       "    <tr>\n",
       "      <th>0</th>\n",
       "      <td>0.407873</td>\n",
       "      <td>1.037360</td>\n",
       "      <td>1</td>\n",
       "    </tr>\n",
       "    <tr>\n",
       "      <th>1</th>\n",
       "      <td>0.763715</td>\n",
       "      <td>-1.033221</td>\n",
       "      <td>0</td>\n",
       "    </tr>\n",
       "    <tr>\n",
       "      <th>3</th>\n",
       "      <td>0.553711</td>\n",
       "      <td>-3.118610</td>\n",
       "      <td>0</td>\n",
       "    </tr>\n",
       "    <tr>\n",
       "      <th>4</th>\n",
       "      <td>0.336519</td>\n",
       "      <td>-1.849318</td>\n",
       "      <td>0</td>\n",
       "    </tr>\n",
       "    <tr>\n",
       "      <th>5</th>\n",
       "      <td>0.664234</td>\n",
       "      <td>-0.311497</td>\n",
       "      <td>1</td>\n",
       "    </tr>\n",
       "  </tbody>\n",
       "</table>\n",
       "</div>"
      ],
      "text/plain": [
       "      rand1     rand2  class\n",
       "0  0.407873  1.037360      1\n",
       "1  0.763715 -1.033221      0\n",
       "3  0.553711 -3.118610      0\n",
       "4  0.336519 -1.849318      0\n",
       "5  0.664234 -0.311497      1"
      ]
     },
     "execution_count": 68,
     "metadata": {},
     "output_type": "execute_result"
    }
   ],
   "source": [
    "dd_train.head()"
   ]
  },
  {
   "cell_type": "code",
   "execution_count": 69,
   "metadata": {},
   "outputs": [],
   "source": [
    "array2 = ['group8','group9','group10']\n",
    "dd_test=df2_1.loc[df2_1['group_id'].isin(array2)]"
   ]
  },
  {
   "cell_type": "code",
   "execution_count": 73,
   "metadata": {},
   "outputs": [
    {
     "name": "stderr",
     "output_type": "stream",
     "text": [
      "2020-09-29 01:11:35,064 [17924] WARNING  py.warnings:110: [JupyterRequire] c:\\users\\shivansh khanna\\appdata\\local\\programs\\python\\python37\\lib\\site-packages\\ipykernel_launcher.py:6: SettingWithCopyWarning: \n",
      "A value is trying to be set on a copy of a slice from a DataFrame.\n",
      "Try using .loc[row_indexer,col_indexer] = value instead\n",
      "\n",
      "See the caveats in the documentation: http://pandas.pydata.org/pandas-docs/stable/indexing.html#indexing-view-versus-copy\n",
      "  \n",
      "\n"
     ]
    }
   ],
   "source": [
    "dd_test.head()\n",
    "from sklearn import preprocessing\n",
    "le = preprocessing.LabelEncoder()\n",
    "# Converting string labels into numbers.\n",
    "label_encoded=le.fit_transform(dd_test['group_id'])\n",
    "dd_test['group_id']= (label_encoded)"
   ]
  },
  {
   "cell_type": "code",
   "execution_count": 71,
   "metadata": {},
   "outputs": [
    {
     "ename": "ValueError",
     "evalue": "Number of features of the model must match the input. Model n_features is 2 and input n_features is 3 ",
     "output_type": "error",
     "traceback": [
      "\u001b[1;31m---------------------------------------------------------------------------\u001b[0m",
      "\u001b[1;31mValueError\u001b[0m                                Traceback (most recent call last)",
      "\u001b[1;32m<ipython-input-71-dd141dcae701>\u001b[0m in \u001b[0;36m<module>\u001b[1;34m\u001b[0m\n\u001b[0;32m      5\u001b[0m \u001b[0mmodel3\u001b[0m \u001b[1;33m=\u001b[0m \u001b[0mDecisionTreeClassifier\u001b[0m\u001b[1;33m(\u001b[0m\u001b[1;33m)\u001b[0m\u001b[1;33m\u001b[0m\u001b[1;33m\u001b[0m\u001b[0m\n\u001b[0;32m      6\u001b[0m \u001b[0mmodel3\u001b[0m\u001b[1;33m.\u001b[0m\u001b[0mfit\u001b[0m\u001b[1;33m(\u001b[0m\u001b[0mX_train\u001b[0m\u001b[1;33m,\u001b[0m \u001b[0my_train\u001b[0m\u001b[1;33m)\u001b[0m\u001b[1;33m\u001b[0m\u001b[1;33m\u001b[0m\u001b[0m\n\u001b[1;32m----> 7\u001b[1;33m \u001b[0my_pred\u001b[0m\u001b[1;33m=\u001b[0m\u001b[0mmodel3\u001b[0m\u001b[1;33m.\u001b[0m\u001b[0mpredict\u001b[0m\u001b[1;33m(\u001b[0m\u001b[0mX_test\u001b[0m\u001b[1;33m)\u001b[0m\u001b[1;33m\u001b[0m\u001b[1;33m\u001b[0m\u001b[0m\n\u001b[0m\u001b[0;32m      8\u001b[0m \u001b[0mprint\u001b[0m\u001b[1;33m(\u001b[0m\u001b[1;34m\"Fold:\"\u001b[0m\u001b[1;33m,\u001b[0m\u001b[0mcount\u001b[0m\u001b[1;33m)\u001b[0m\u001b[1;33m\u001b[0m\u001b[1;33m\u001b[0m\u001b[0m\n\u001b[0;32m      9\u001b[0m \u001b[0mprint\u001b[0m\u001b[1;33m(\u001b[0m\u001b[1;34m\"Kappa Score: \"\u001b[0m\u001b[1;33m,\u001b[0m\u001b[0mcohen_kappa_score\u001b[0m\u001b[1;33m(\u001b[0m\u001b[0my_test\u001b[0m\u001b[1;33m,\u001b[0m \u001b[0my_pred\u001b[0m\u001b[1;33m)\u001b[0m\u001b[1;33m)\u001b[0m\u001b[1;33m\u001b[0m\u001b[1;33m\u001b[0m\u001b[0m\n",
      "\u001b[1;32mc:\\users\\shivansh khanna\\appdata\\local\\programs\\python\\python37\\lib\\site-packages\\sklearn\\tree\\tree.py\u001b[0m in \u001b[0;36mpredict\u001b[1;34m(self, X, check_input)\u001b[0m\n\u001b[0;32m    428\u001b[0m         \"\"\"\n\u001b[0;32m    429\u001b[0m         \u001b[0mcheck_is_fitted\u001b[0m\u001b[1;33m(\u001b[0m\u001b[0mself\u001b[0m\u001b[1;33m,\u001b[0m \u001b[1;34m'tree_'\u001b[0m\u001b[1;33m)\u001b[0m\u001b[1;33m\u001b[0m\u001b[1;33m\u001b[0m\u001b[0m\n\u001b[1;32m--> 430\u001b[1;33m         \u001b[0mX\u001b[0m \u001b[1;33m=\u001b[0m \u001b[0mself\u001b[0m\u001b[1;33m.\u001b[0m\u001b[0m_validate_X_predict\u001b[0m\u001b[1;33m(\u001b[0m\u001b[0mX\u001b[0m\u001b[1;33m,\u001b[0m \u001b[0mcheck_input\u001b[0m\u001b[1;33m)\u001b[0m\u001b[1;33m\u001b[0m\u001b[1;33m\u001b[0m\u001b[0m\n\u001b[0m\u001b[0;32m    431\u001b[0m         \u001b[0mproba\u001b[0m \u001b[1;33m=\u001b[0m \u001b[0mself\u001b[0m\u001b[1;33m.\u001b[0m\u001b[0mtree_\u001b[0m\u001b[1;33m.\u001b[0m\u001b[0mpredict\u001b[0m\u001b[1;33m(\u001b[0m\u001b[0mX\u001b[0m\u001b[1;33m)\u001b[0m\u001b[1;33m\u001b[0m\u001b[1;33m\u001b[0m\u001b[0m\n\u001b[0;32m    432\u001b[0m         \u001b[0mn_samples\u001b[0m \u001b[1;33m=\u001b[0m \u001b[0mX\u001b[0m\u001b[1;33m.\u001b[0m\u001b[0mshape\u001b[0m\u001b[1;33m[\u001b[0m\u001b[1;36m0\u001b[0m\u001b[1;33m]\u001b[0m\u001b[1;33m\u001b[0m\u001b[1;33m\u001b[0m\u001b[0m\n",
      "\u001b[1;32mc:\\users\\shivansh khanna\\appdata\\local\\programs\\python\\python37\\lib\\site-packages\\sklearn\\tree\\tree.py\u001b[0m in \u001b[0;36m_validate_X_predict\u001b[1;34m(self, X, check_input)\u001b[0m\n\u001b[0;32m    400\u001b[0m                              \u001b[1;34m\"match the input. Model n_features is %s and \"\u001b[0m\u001b[1;33m\u001b[0m\u001b[1;33m\u001b[0m\u001b[0m\n\u001b[0;32m    401\u001b[0m                              \u001b[1;34m\"input n_features is %s \"\u001b[0m\u001b[1;33m\u001b[0m\u001b[1;33m\u001b[0m\u001b[0m\n\u001b[1;32m--> 402\u001b[1;33m                              % (self.n_features_, n_features))\n\u001b[0m\u001b[0;32m    403\u001b[0m \u001b[1;33m\u001b[0m\u001b[0m\n\u001b[0;32m    404\u001b[0m         \u001b[1;32mreturn\u001b[0m \u001b[0mX\u001b[0m\u001b[1;33m\u001b[0m\u001b[1;33m\u001b[0m\u001b[0m\n",
      "\u001b[1;31mValueError\u001b[0m: Number of features of the model must match the input. Model n_features is 2 and input n_features is 3 "
     ]
    }
   ],
   "source": [
    "X_train = dd_train.iloc[:, :-1].values\n",
    "y_train = dd_train.iloc[:, -1].values\n",
    "X_test = dd_test.iloc[:, :-1].values\n",
    "y_test = dd_test.iloc[:, -1].values\n",
    "model3 = DecisionTreeClassifier()\n",
    "model3.fit(X_train, y_train)\n",
    "y_pred=model3.predict(X_test)\n",
    "print(\"Fold:\",count)\n",
    "print(\"Kappa Score: \",cohen_kappa_score(y_test, y_pred))\n",
    "print(\"Accuracy:\",metrics.accuracy_score(y_test, y_pred))\n",
    "print(\"% Correct: \",accuracy_score(y_test, y_pred))\n",
    "print(\"Precision Score: \",precision_score(y_test, y_pred))\n",
    "print(\"Recall Score:\",recall_score(y_test, y_pred))\n",
    "print(\"--\")"
   ]
  },
  {
   "cell_type": "code",
   "execution_count": 72,
   "metadata": {},
   "outputs": [
    {
     "data": {
      "text/plain": [
       "array([[0.        , 0.85456989, 5.38880777],\n",
       "       [1.        , 0.642096  , 3.15798817],\n",
       "       [0.        , 0.60294252, 5.67269928],\n",
       "       [0.        , 0.92659472, 5.96861805],\n",
       "       [1.        , 0.38807233, 3.14457666],\n",
       "       [1.        , 0.99442889, 3.08109685],\n",
       "       [2.        , 0.19467343, 4.05246898],\n",
       "       [1.        , 0.01207719, 3.33648443],\n",
       "       [2.        , 0.03529576, 4.251166  ],\n",
       "       [2.        , 0.62249701, 4.65159461],\n",
       "       [0.        , 0.9135455 , 5.97148754],\n",
       "       [2.        , 0.93126139, 4.90587903],\n",
       "       [2.        , 0.81484056, 4.67791757],\n",
       "       [1.        , 0.9499174 , 3.43101084],\n",
       "       [0.        , 0.62287883, 5.13638527],\n",
       "       [2.        , 0.01236369, 4.98844646],\n",
       "       [0.        , 0.91108338, 5.16840087],\n",
       "       [0.        , 0.95754235, 5.3831428 ],\n",
       "       [1.        , 0.52971316, 3.63669159],\n",
       "       [1.        , 0.52217852, 3.74414188],\n",
       "       [1.        , 0.70986259, 3.85125327],\n",
       "       [1.        , 0.86772212, 3.87220198],\n",
       "       [0.        , 0.53067088, 5.5835261 ],\n",
       "       [2.        , 0.48174964, 4.51209022],\n",
       "       [0.        , 0.03311868, 5.31080478],\n",
       "       [2.        , 0.42149136, 4.56353611],\n",
       "       [2.        , 0.43149452, 4.40404192],\n",
       "       [0.        , 0.68280461, 5.5450414 ],\n",
       "       [1.        , 0.46309679, 3.48141836],\n",
       "       [2.        , 0.52304192, 4.00738202]])"
      ]
     },
     "execution_count": 72,
     "metadata": {},
     "output_type": "execute_result"
    }
   ],
   "source": [
    "X_test = dd_test.iloc[:, :-1].values\n",
    "X_test"
   ]
  },
  {
   "cell_type": "markdown",
   "metadata": {},
   "source": [
    "The feature space for the train and text is different, in pyhton the feature space needs to be same. The test feature spacfe can be less in dimensions and theere are a few way to balance it to get appropriate to match the dimension size of the train feature set. But unforuntaley is not the other way around, I have researched but I filaed to find a solution. "
   ]
  },
  {
   "cell_type": "markdown",
   "metadata": {},
   "source": [
    "3: Custom cross-validation on Parkinson’s data"
   ]
  },
  {
   "cell_type": "code",
   "execution_count": 130,
   "metadata": {},
   "outputs": [
    {
     "name": "stdout",
     "output_type": "stream",
     "text": [
      "Title: Parkinsons Disease Data Set\n",
      "\n",
      "Abstract: Oxford Parkinson's Disease Detection Dataset\n",
      "\n",
      "-----------------------------------------------------\t\n",
      "\n",
      "Data Set Characteristics: Multivariate\n",
      "Number of Instances: 197\n",
      "Area: Life\n",
      "Attribute Characteristics: Real\n",
      "Number of Attributes: 23\n",
      "Date Donated: 2008-06-26\n",
      "Associated Tasks: Classification\n",
      "Missing Values? N/A\n",
      "\n",
      "-----------------------------------------------------\t\n",
      "\n",
      "Source:\n",
      "\n",
      "The dataset was created by Max Little of the University of Oxford, in \n",
      "collaboration with the National Centre for Voice and Speech, Denver, \n",
      "Colorado, who recorded the speech signals. The original study published the \n",
      "feature extraction methods for general voice disorders.\n",
      "\n",
      "-----------------------------------------------------\n",
      "\n",
      "Data Set Information:\n",
      "\n",
      "This dataset is composed of a range of biomedical voice measurements from \n",
      "31 people, 23 with Parkinson's disease (PD). Each column in the table is a \n",
      "particular voice measure, and each row corresponds one of 195 voice \n",
      "recording from these individuals (\"name\" column). The main aim of the data \n",
      "is to discriminate healthy people from those with PD, according to \"status\" \n",
      "column which is set to 0 for healthy and 1 for PD.\n",
      "\n",
      "The data is in ASCII CSV format. The rows of the CSV file contain an \n",
      "instance corresponding to one voice recording. There are around six \n",
      "recordings per patient, the name of the patient is identified in the first \n",
      "column.For further information or to pass on comments, please contact Max \n",
      "Little (littlem '@' robots.ox.ac.uk).\n",
      "\n",
      "Further details are contained in the following reference -- if you use this \n",
      "dataset, please cite:\n",
      "Max A. Little, Patrick E. McSharry, Eric J. Hunter, Lorraine O. Ramig (2008), \n",
      "'Suitability of dysphonia measurements for telemonitoring of Parkinson's disease', \n",
      "IEEE Transactions on Biomedical Engineering (to appear).\n",
      "\n",
      "-----------------------------------------------------\n",
      "\n",
      "Attribute Information:\n",
      "\n",
      "Matrix column entries (attributes):\n",
      "name - ASCII subject name and recording number\n",
      "MDVP:Fo(Hz) - Average vocal fundamental frequency\n",
      "MDVP:Fhi(Hz) - Maximum vocal fundamental frequency\n",
      "MDVP:Flo(Hz) - Minimum vocal fundamental frequency\n",
      "MDVP:Jitter(%),MDVP:Jitter(Abs),MDVP:RAP,MDVP:PPQ,Jitter:DDP - Several \n",
      "measures of variation in fundamental frequency\n",
      "MDVP:Shimmer,MDVP:Shimmer(dB),Shimmer:APQ3,Shimmer:APQ5,MDVP:APQ,Shimmer:DDA - Several measures of variation in amplitude\n",
      "NHR,HNR - Two measures of ratio of noise to tonal components in the voice\n",
      "status - Health status of the subject (one) - Parkinson's, (zero) - healthy\n",
      "RPDE,D2 - Two nonlinear dynamical complexity measures\n",
      "DFA - Signal fractal scaling exponent\n",
      "spread1,spread2,PPE - Three nonlinear measures of fundamental frequency variation \n",
      "\n",
      "-----------------------------------------------------\n",
      "\n",
      "Citation Request:\n",
      "\n",
      "If you use this dataset, please cite the following paper: \n",
      "'Exploiting Nonlinear Recurrence and Fractal Scaling Properties for Voice Disorder Detection', \n",
      "Little MA, McSharry PE, Roberts SJ, Costello DAE, Moroz IM. \n",
      "BioMedical Engineering OnLine 2007, 6:23 (26 June 2007)\n",
      "\n",
      "\n",
      "\n"
     ]
    }
   ],
   "source": [
    "f=open(\"parkinsons.names\", \"r\")\n",
    "print(f.read())"
   ]
  },
  {
   "cell_type": "code",
   "execution_count": 4,
   "metadata": {},
   "outputs": [],
   "source": [
    "dataset = pd.read_csv(\"parkinsons.data\")"
   ]
  },
  {
   "cell_type": "code",
   "execution_count": 5,
   "metadata": {},
   "outputs": [],
   "source": [
    "y=dataset['status']\n",
    "cols=['MDVP:RAP','Jitter:DDP','DFA','NHR','MDVP:Fhi(Hz)','name','status']\n",
    "x=dataset.drop(cols,axis=1)"
   ]
  },
  {
   "cell_type": "markdown",
   "metadata": {},
   "source": [
    "I have removed all the above columns because after reading through the metadeta I have drop irrelavant column values from our dataset so that we can get better accuracy"
   ]
  },
  {
   "cell_type": "code",
   "execution_count": 10,
   "metadata": {},
   "outputs": [
    {
     "data": {
      "text/html": [
       "<div>\n",
       "<style scoped>\n",
       "    .dataframe tbody tr th:only-of-type {\n",
       "        vertical-align: middle;\n",
       "    }\n",
       "\n",
       "    .dataframe tbody tr th {\n",
       "        vertical-align: top;\n",
       "    }\n",
       "\n",
       "    .dataframe thead th {\n",
       "        text-align: right;\n",
       "    }\n",
       "</style>\n",
       "<table border=\"1\" class=\"dataframe\">\n",
       "  <thead>\n",
       "    <tr style=\"text-align: right;\">\n",
       "      <th></th>\n",
       "      <th>MDVP:Fo(Hz)</th>\n",
       "      <th>MDVP:Flo(Hz)</th>\n",
       "      <th>MDVP:Jitter(%)</th>\n",
       "      <th>MDVP:Jitter(Abs)</th>\n",
       "      <th>MDVP:PPQ</th>\n",
       "      <th>MDVP:Shimmer</th>\n",
       "      <th>MDVP:Shimmer(dB)</th>\n",
       "      <th>Shimmer:APQ3</th>\n",
       "      <th>Shimmer:APQ5</th>\n",
       "      <th>MDVP:APQ</th>\n",
       "      <th>Shimmer:DDA</th>\n",
       "      <th>HNR</th>\n",
       "      <th>RPDE</th>\n",
       "      <th>spread1</th>\n",
       "      <th>spread2</th>\n",
       "      <th>D2</th>\n",
       "      <th>PPE</th>\n",
       "    </tr>\n",
       "  </thead>\n",
       "  <tbody>\n",
       "    <tr>\n",
       "      <th>0</th>\n",
       "      <td>119.992</td>\n",
       "      <td>74.997</td>\n",
       "      <td>0.00784</td>\n",
       "      <td>0.00007</td>\n",
       "      <td>0.00554</td>\n",
       "      <td>0.04374</td>\n",
       "      <td>0.426</td>\n",
       "      <td>0.02182</td>\n",
       "      <td>0.03130</td>\n",
       "      <td>0.02971</td>\n",
       "      <td>0.06545</td>\n",
       "      <td>21.033</td>\n",
       "      <td>0.414783</td>\n",
       "      <td>-4.813031</td>\n",
       "      <td>0.266482</td>\n",
       "      <td>2.301442</td>\n",
       "      <td>0.284654</td>\n",
       "    </tr>\n",
       "    <tr>\n",
       "      <th>1</th>\n",
       "      <td>122.400</td>\n",
       "      <td>113.819</td>\n",
       "      <td>0.00968</td>\n",
       "      <td>0.00008</td>\n",
       "      <td>0.00696</td>\n",
       "      <td>0.06134</td>\n",
       "      <td>0.626</td>\n",
       "      <td>0.03134</td>\n",
       "      <td>0.04518</td>\n",
       "      <td>0.04368</td>\n",
       "      <td>0.09403</td>\n",
       "      <td>19.085</td>\n",
       "      <td>0.458359</td>\n",
       "      <td>-4.075192</td>\n",
       "      <td>0.335590</td>\n",
       "      <td>2.486855</td>\n",
       "      <td>0.368674</td>\n",
       "    </tr>\n",
       "    <tr>\n",
       "      <th>2</th>\n",
       "      <td>116.682</td>\n",
       "      <td>111.555</td>\n",
       "      <td>0.01050</td>\n",
       "      <td>0.00009</td>\n",
       "      <td>0.00781</td>\n",
       "      <td>0.05233</td>\n",
       "      <td>0.482</td>\n",
       "      <td>0.02757</td>\n",
       "      <td>0.03858</td>\n",
       "      <td>0.03590</td>\n",
       "      <td>0.08270</td>\n",
       "      <td>20.651</td>\n",
       "      <td>0.429895</td>\n",
       "      <td>-4.443179</td>\n",
       "      <td>0.311173</td>\n",
       "      <td>2.342259</td>\n",
       "      <td>0.332634</td>\n",
       "    </tr>\n",
       "    <tr>\n",
       "      <th>3</th>\n",
       "      <td>116.676</td>\n",
       "      <td>111.366</td>\n",
       "      <td>0.00997</td>\n",
       "      <td>0.00009</td>\n",
       "      <td>0.00698</td>\n",
       "      <td>0.05492</td>\n",
       "      <td>0.517</td>\n",
       "      <td>0.02924</td>\n",
       "      <td>0.04005</td>\n",
       "      <td>0.03772</td>\n",
       "      <td>0.08771</td>\n",
       "      <td>20.644</td>\n",
       "      <td>0.434969</td>\n",
       "      <td>-4.117501</td>\n",
       "      <td>0.334147</td>\n",
       "      <td>2.405554</td>\n",
       "      <td>0.368975</td>\n",
       "    </tr>\n",
       "    <tr>\n",
       "      <th>4</th>\n",
       "      <td>116.014</td>\n",
       "      <td>110.655</td>\n",
       "      <td>0.01284</td>\n",
       "      <td>0.00011</td>\n",
       "      <td>0.00908</td>\n",
       "      <td>0.06425</td>\n",
       "      <td>0.584</td>\n",
       "      <td>0.03490</td>\n",
       "      <td>0.04825</td>\n",
       "      <td>0.04465</td>\n",
       "      <td>0.10470</td>\n",
       "      <td>19.649</td>\n",
       "      <td>0.417356</td>\n",
       "      <td>-3.747787</td>\n",
       "      <td>0.234513</td>\n",
       "      <td>2.332180</td>\n",
       "      <td>0.410335</td>\n",
       "    </tr>\n",
       "  </tbody>\n",
       "</table>\n",
       "</div>"
      ],
      "text/plain": [
       "   MDVP:Fo(Hz)  MDVP:Flo(Hz)  MDVP:Jitter(%)  MDVP:Jitter(Abs)  MDVP:PPQ  \\\n",
       "0      119.992        74.997         0.00784           0.00007   0.00554   \n",
       "1      122.400       113.819         0.00968           0.00008   0.00696   \n",
       "2      116.682       111.555         0.01050           0.00009   0.00781   \n",
       "3      116.676       111.366         0.00997           0.00009   0.00698   \n",
       "4      116.014       110.655         0.01284           0.00011   0.00908   \n",
       "\n",
       "   MDVP:Shimmer  MDVP:Shimmer(dB)  Shimmer:APQ3  Shimmer:APQ5  MDVP:APQ  \\\n",
       "0       0.04374             0.426       0.02182       0.03130   0.02971   \n",
       "1       0.06134             0.626       0.03134       0.04518   0.04368   \n",
       "2       0.05233             0.482       0.02757       0.03858   0.03590   \n",
       "3       0.05492             0.517       0.02924       0.04005   0.03772   \n",
       "4       0.06425             0.584       0.03490       0.04825   0.04465   \n",
       "\n",
       "   Shimmer:DDA     HNR      RPDE   spread1   spread2        D2       PPE  \n",
       "0      0.06545  21.033  0.414783 -4.813031  0.266482  2.301442  0.284654  \n",
       "1      0.09403  19.085  0.458359 -4.075192  0.335590  2.486855  0.368674  \n",
       "2      0.08270  20.651  0.429895 -4.443179  0.311173  2.342259  0.332634  \n",
       "3      0.08771  20.644  0.434969 -4.117501  0.334147  2.405554  0.368975  \n",
       "4      0.10470  19.649  0.417356 -3.747787  0.234513  2.332180  0.410335  "
      ]
     },
     "execution_count": 10,
     "metadata": {},
     "output_type": "execute_result"
    }
   ],
   "source": [
    "x.head()"
   ]
  },
  {
   "cell_type": "markdown",
   "metadata": {},
   "source": [
    "Actually there is no straight answer to the choice of K in k-fold cross validation. An higher k will give you more but smaller subsets on which run testing. An adopted choice is to select the K that gives you a testing set with the size of 15% of your total dataset."
   ]
  },
  {
   "cell_type": "code",
   "execution_count": 44,
   "metadata": {},
   "outputs": [
    {
     "name": "stderr",
     "output_type": "stream",
     "text": [
      "2020-09-29 00:55:41,249 [17924] WARNING  py.warnings:110: [JupyterRequire] c:\\users\\shivansh khanna\\appdata\\local\\programs\\python\\python37\\lib\\site-packages\\sklearn\\model_selection\\_search.py:813: DeprecationWarning: The default of the `iid` parameter will change from True to False in version 0.22 and will be removed in 0.24. This will change numeric results when test-set sizes are unequal.\n",
      "  DeprecationWarning)\n",
      "\n"
     ]
    },
    {
     "name": "stdout",
     "output_type": "stream",
     "text": [
      "Best leaf_size: 1\n",
      "Best p: 2\n",
      "Best n_neighbors: 1\n"
     ]
    }
   ],
   "source": [
    "t_size=0.80\n",
    "test=0.20\n",
    "seed=245\n",
    "x_train,x_test,y_train,y_test=train_test_split(x,y,train_size=t_size,test_size=test,random_state=seed)\n",
    "\n",
    "leaf_size = list(range(1,50))\n",
    "n_neighbors = list(range(1,30))\n",
    "p=[1,2]\n",
    "hyperparameters = dict(leaf_size=leaf_size, n_neighbors=n_neighbors, p=p)\n",
    "knn_2 = KNeighborsClassifier()\n",
    "clf = GridSearchCV(knn_2, hyperparameters, cv=10)\n",
    "best_model = clf.fit(x, y)\n",
    "print('Best leaf_size:', best_model.best_estimator_.get_params()['leaf_size'])\n",
    "print('Best p:', best_model.best_estimator_.get_params()['p'])\n",
    "print('Best n_neighbors:', best_model.best_estimator_.get_params()['n_neighbors'])"
   ]
  },
  {
   "cell_type": "code",
   "execution_count": 51,
   "metadata": {},
   "outputs": [
    {
     "name": "stdout",
     "output_type": "stream",
     "text": [
      "KNN : 0.891026 (0.068142)\n",
      "Decision_Tree : 0.865385 (0.053248)\n",
      "Naive Bayes : 0.717949 (0.079031)\n"
     ]
    }
   ],
   "source": [
    "n=1\n",
    "models=[]\n",
    "models.append(('KNN',KNeighborsClassifier(n_neighbors=n)))\n",
    "models.append((\"Decision_Tree\",DecisionTreeClassifier()))\n",
    "models.append(('Naive Bayes',GaussianNB()))\n",
    "names=[]\n",
    "predictions=[]\n",
    "for name,model in models:\n",
    "    fold=KFold(n_splits=6,random_state=0)\n",
    "    result=cross_val_score(model,x_train,y_train,cv=fold)\n",
    "    predictions.append(result)\n",
    "    names.append(name)\n",
    "    msg=\"%s : %f (%f)\"%(name,result.mean(),result.std())\n",
    "    print(msg)"
   ]
  },
  {
   "cell_type": "markdown",
   "metadata": {},
   "source": [
    "After comparing KNN, Decision tree and Naive Bayes, I got to the conclusion that the best result is given by knn, hence I will be using KNN to do compare it to 4-fold cross-validation"
   ]
  },
  {
   "cell_type": "code",
   "execution_count": 52,
   "metadata": {},
   "outputs": [
    {
     "name": "stdout",
     "output_type": "stream",
     "text": [
      "KNN : 0.903846 (0.052470)\n"
     ]
    }
   ],
   "source": [
    "n=1\n",
    "models=[]\n",
    "models.append(('KNN',KNeighborsClassifier(n_neighbors=n)))\n",
    "names=[]\n",
    "predictions=[]\n",
    "for name,model in models:\n",
    "    fold=KFold(n_splits=4,random_state=0)\n",
    "    result=cross_val_score(model,x_train,y_train,cv=fold)\n",
    "    predictions.append(result)\n",
    "    names.append(name)\n",
    "    msg=\"%s : %f (%f)\"%(name,result.mean(),result.std())\n",
    "    print(msg)"
   ]
  },
  {
   "cell_type": "markdown",
   "metadata": {},
   "source": [
    "The 4-fold cross-validation is better as comapred to the previously used 6 fold cross validation"
   ]
  },
  {
   "cell_type": "code",
   "execution_count": null,
   "metadata": {},
   "outputs": [],
   "source": []
  }
 ],
 "metadata": {
  "kernelspec": {
   "display_name": "Python 3",
   "language": "python",
   "name": "python3"
  },
  "language_info": {
   "codemirror_mode": {
    "name": "ipython",
    "version": 3
   },
   "file_extension": ".py",
   "mimetype": "text/x-python",
   "name": "python",
   "nbconvert_exporter": "python",
   "pygments_lexer": "ipython3",
   "version": "3.7.3"
  }
 },
 "nbformat": 4,
 "nbformat_minor": 2
}
